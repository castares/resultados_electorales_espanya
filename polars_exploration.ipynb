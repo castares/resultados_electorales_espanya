{
 "cells": [
  {
   "cell_type": "code",
   "execution_count": 85,
   "id": "24c69ffe-2300-4ee4-afd6-a792036b3c84",
   "metadata": {},
   "outputs": [],
   "source": [
    "import polars as pl\n",
    "import polars.selectors as cs\n",
    "df = pl.read_csv('./data/csv/congreso_2019.csv')"
   ]
  },
  {
   "cell_type": "code",
   "execution_count": 86,
   "id": "25d83ca9-bf53-4fe1-8c82-7e1f8a5d7743",
   "metadata": {},
   "outputs": [
    {
     "data": {
      "text/plain": [
       "['Nombre de Comunidad',\n",
       " 'Código de Provincia',\n",
       " 'Nombre de Provincia',\n",
       " 'Código de Municipio',\n",
       " 'Nombre de Municipio',\n",
       " 'Población',\n",
       " 'Número de mesas',\n",
       " 'Total censo electoral',\n",
       " 'Total votantes',\n",
       " 'Votos válidos',\n",
       " 'Votos a candidaturas',\n",
       " 'Votos en blanco',\n",
       " 'Votos nulos',\n",
       " 'PSOE ',\n",
       " 'PP',\n",
       " 'Cs',\n",
       " 'PODEMOS-IU-EQUO',\n",
       " 'VOX',\n",
       " 'ERC-SOBIRANISTES ',\n",
       " 'ECP-GUANYEM EL CANVI ',\n",
       " 'JxCAT-JUNTS',\n",
       " 'EAJ-PNV',\n",
       " 'EH Bildu ',\n",
       " 'PODEMOS-EU-MAREAS EN COMÚN-EQUO',\n",
       " 'CCa-PNC',\n",
       " 'NA+',\n",
       " 'COMPROMÍS 2019',\n",
       " 'PRC',\n",
       " 'PACMA ',\n",
       " 'FRONT REPUBLICÀ',\n",
       " 'BNG',\n",
       " 'RECORTES CERO-GV ',\n",
       " 'NCa',\n",
       " 'PACT ',\n",
       " 'ARA-MES-ESQUERRA ',\n",
       " 'GBAI ',\n",
       " 'PUM+J ',\n",
       " 'EN MAREA ',\n",
       " 'PCTE ',\n",
       " 'EL PI ',\n",
       " 'AxSI ',\n",
       " 'PCOE ',\n",
       " 'PCPE ',\n",
       " 'AVANT ADELANTE LOS VERDES ',\n",
       " 'EB',\n",
       " 'CpM',\n",
       " 'SOMOS REGIÓN ',\n",
       " 'PCPA ',\n",
       " 'PH',\n",
       " 'UIG-SOM-CUIDES',\n",
       " 'ERPV ',\n",
       " 'IZQP ',\n",
       " 'PCPC ',\n",
       " 'AHORA CANARIAS',\n",
       " 'CxG',\n",
       " 'PPSO ',\n",
       " 'CNV',\n",
       " 'PREPAL',\n",
       " 'C.Ex-C.R.Ex-P.R.Ex',\n",
       " 'PR+',\n",
       " 'P-LIB ',\n",
       " 'CILU-LINARES ',\n",
       " 'ANDECHA ASTUR ',\n",
       " 'JF ',\n",
       " 'PYLN ',\n",
       " 'FIA',\n",
       " 'FE de las JONS',\n",
       " 'F8',\n",
       " 'SOLIDARIA ',\n",
       " 'DPL',\n",
       " 'UNIÓN REGIONALISTA',\n",
       " 'centrados ',\n",
       " 'VOU',\n",
       " 'DP',\n",
       " 'PDSJE-UDEC',\n",
       " 'IZAR ',\n",
       " 'RISA ',\n",
       " 'C 21 ',\n",
       " '+MAS+ ',\n",
       " 'UDT']"
      ]
     },
     "execution_count": 86,
     "metadata": {},
     "output_type": "execute_result"
    }
   ],
   "source": [
    "df.columns"
   ]
  },
  {
   "cell_type": "code",
   "execution_count": 88,
   "id": "3ec4f829-67ad-4f52-a421-84a70b033764",
   "metadata": {},
   "outputs": [],
   "source": [
    "df = df.rename({col: col.strip() for col in df.columns})"
   ]
  },
  {
   "cell_type": "code",
   "execution_count": 89,
   "id": "714db85c-89be-40f6-bbaa-6fa6b2435add",
   "metadata": {},
   "outputs": [
    {
     "name": "stdout",
     "output_type": "stream",
     "text": [
      "shape: (8_131, 80)\n",
      "┌─────────────────────┬───────────┬────────────────────┬───────────┬───┬──────┬──────┬───────┬─────┐\n",
      "│ Nombre de Comunidad ┆ Código de ┆ Nombre de          ┆ Código de ┆ … ┆ RISA ┆ C 21 ┆ +MAS+ ┆ UDT │\n",
      "│ ---                 ┆ Provincia ┆ Provincia          ┆ Municipio ┆   ┆ ---  ┆ ---  ┆ ---   ┆ --- │\n",
      "│ str                 ┆ ---       ┆ ---                ┆ ---       ┆   ┆ i64  ┆ i64  ┆ i64   ┆ i64 │\n",
      "│                     ┆ i64       ┆ str                ┆ i64       ┆   ┆      ┆      ┆       ┆     │\n",
      "╞═════════════════════╪═══════════╪════════════════════╪═══════════╪═══╪══════╪══════╪═══════╪═════╡\n",
      "│ Andalucía           ┆ 4         ┆ Almería            ┆ 1         ┆ … ┆ 0    ┆ 0    ┆ 0     ┆ 0   │\n",
      "│ Andalucía           ┆ 4         ┆ Almería            ┆ 2         ┆ … ┆ 0    ┆ 0    ┆ 0     ┆ 0   │\n",
      "│ Andalucía           ┆ 4         ┆ Almería            ┆ 3         ┆ … ┆ 0    ┆ 0    ┆ 0     ┆ 0   │\n",
      "│ Andalucía           ┆ 4         ┆ Almería            ┆ 4         ┆ … ┆ 0    ┆ 0    ┆ 0     ┆ 0   │\n",
      "│ …                   ┆ …         ┆ …                  ┆ …         ┆ … ┆ …    ┆ …    ┆ …     ┆ …   │\n",
      "│ Comunitat           ┆ 46        ┆ Valencia /         ┆ 903       ┆ … ┆ 0    ┆ 0    ┆ 0     ┆ 0   │\n",
      "│ Valenciana          ┆           ┆ València           ┆           ┆   ┆      ┆      ┆       ┆     │\n",
      "│ Comunitat           ┆ 46        ┆ Valencia /         ┆ 904       ┆ … ┆ 0    ┆ 0    ┆ 0     ┆ 0   │\n",
      "│ Valenciana          ┆           ┆ València           ┆           ┆   ┆      ┆      ┆       ┆     │\n",
      "│ Ciudad de Ceuta     ┆ 51        ┆ Ceuta              ┆ 1         ┆ … ┆ 0    ┆ 0    ┆ 0     ┆ 0   │\n",
      "│ Ciudad de Melilla   ┆ 52        ┆ Melilla            ┆ 1         ┆ … ┆ 0    ┆ 0    ┆ 0     ┆ 0   │\n",
      "└─────────────────────┴───────────┴────────────────────┴───────────┴───┴──────┴──────┴───────┴─────┘\n"
     ]
    }
   ],
   "source": [
    "print(df)"
   ]
  },
  {
   "cell_type": "code",
   "execution_count": 90,
   "id": "1ec95458-97a6-4b6f-9e31-cea0ba6bec39",
   "metadata": {},
   "outputs": [],
   "source": [
    "cleaned_cols = df.select(\n",
    "    pl.col(\"Nombre de Comunidad\").str.strip().alias(\"nombre_comunidad\"),\n",
    "    pl.col(\"Código de Provincia\").alias(\"codigo_provincia\"),\n",
    "    pl.col(\"Nombre de Provincia\").str.strip().alias(\"nombre_provincia\"),\n",
    "    pl.col(\"Código de Municipio\").alias(\"codigo_municipio\"),\n",
    "    pl.col(\"Nombre de Municipio\").str.strip().alias(\"nombre_municipio\"),\n",
    ")"
   ]
  },
  {
   "cell_type": "code",
   "execution_count": 91,
   "id": "2d81816d-13c6-40ef-a763-24a48c702e21",
   "metadata": {},
   "outputs": [],
   "source": [
    "df = cleaned_cols.join(df.select(cs.numeric()), left_on=[\"codigo_provincia\", \"codigo_municipio\"], right_on=[\"Código de Provincia\", \"Código de Municipio\"], how=\"left\")"
   ]
  },
  {
   "cell_type": "code",
   "execution_count": 92,
   "id": "0afefb41-ee17-471b-b2b3-f45817a1d571",
   "metadata": {},
   "outputs": [],
   "source": [
    "df.write_csv('./data/cleaned_data/cleaned_congreso_2019.csv', separator=\",\")"
   ]
  },
  {
   "cell_type": "code",
   "execution_count": null,
   "id": "671637f1-6257-41c5-bbc3-55a2dd908d09",
   "metadata": {},
   "outputs": [],
   "source": []
  }
 ],
 "metadata": {
  "kernelspec": {
   "display_name": "Python [conda env:resultados_electorales]",
   "language": "python",
   "name": "conda-env-resultados_electorales-py"
  },
  "language_info": {
   "codemirror_mode": {
    "name": "ipython",
    "version": 3
   },
   "file_extension": ".py",
   "mimetype": "text/x-python",
   "name": "python",
   "nbconvert_exporter": "python",
   "pygments_lexer": "ipython3",
   "version": "3.9.12"
  }
 },
 "nbformat": 4,
 "nbformat_minor": 5
}
